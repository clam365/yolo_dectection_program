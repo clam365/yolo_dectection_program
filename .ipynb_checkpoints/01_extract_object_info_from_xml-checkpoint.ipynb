{
 "cells": [
  {
   "cell_type": "code",
   "execution_count": 2,
   "id": "e8f3389a-3214-4283-9cfb-86c8ae68e116",
   "metadata": {},
   "outputs": [],
   "source": [
    "import os\n",
    "from glob import glob\n",
    "import pandas as pd\n",
    "from functools import reduce\n",
    "from xml.etree import ElementTree as et"
   ]
  },
  {
   "cell_type": "code",
   "execution_count": 38,
   "id": "b1d16e67-8fbc-4ef9-a695-5bf42aaf95dd",
   "metadata": {},
   "outputs": [
    {
     "data": {
      "text/plain": [
       "['./1_datapreparation/data_images/01.xml.xml',\n",
       " './1_datapreparation/data_images/02.xml.xml',\n",
       " './1_datapreparation/data_images/03.xml.xml',\n",
       " './1_datapreparation/data_images/04.xml.xml',\n",
       " './1_datapreparation/data_images/05.xml.xml',\n",
       " './1_datapreparation/data_images/06.xml.xml',\n",
       " './1_datapreparation/data_images/07.xml.xml',\n",
       " './1_datapreparation/data_images/08.xml.xml',\n",
       " './1_datapreparation/data_images/09.xml.xml',\n",
       " './1_datapreparation/data_images/10.xml.xml',\n",
       " './1_datapreparation/data_images/11.xml.xml',\n",
       " './1_datapreparation/data_images/12.xml.xml']"
      ]
     },
     "execution_count": 38,
     "metadata": {},
     "output_type": "execute_result"
    }
   ],
   "source": [
    "# we are loading all xml files and storing them in a list\n",
    "xml_list = glob('./1_datapreparation/data_images/*.xml')\n",
    "# data cleaning as in removing \\\\ and replace with /\n",
    "xml_list = list(map(lambda x: x.replace('\\\\', '/'), xml_list))\n",
    "xml_list\n"
   ]
  },
  {
   "cell_type": "code",
   "execution_count": 39,
   "id": "229d6a1d-bc55-4405-b5fc-c053965574e5",
   "metadata": {},
   "outputs": [],
   "source": [
    "# read XML file and from each extract \n",
    "# filename, size(width, height), object(name, xmin, xmax, ymin, ymax)\n",
    "\n",
    "def extract_text(filename):    \n",
    "    tree = et.parse(filename)\n",
    "    root = tree.getroot()\n",
    "    \n",
    "    # extract file name\n",
    "    image_name = root.find('filename').text\n",
    "    \n",
    "    # extract width and height\n",
    "    width = root.find('size').find('width').text\n",
    "    height = root.find('size').find('height').text\n",
    "    \n",
    "    # extracting objects/bounding boxes of objects\n",
    "    objs = root.findall('object')\n",
    "    parser = []\n",
    "    for obj in objs:\n",
    "        name = obj.find('name').text\n",
    "        # bounding box dimensions\n",
    "        bndbox = obj.find('bndbox')\n",
    "        xmin = bndbox.find('xmin').text\n",
    "        xmax = bndbox.find('xmax').text\n",
    "        ymin = bndbox.find('ymin').text\n",
    "        ymax = bndbox.find('ymax').text\n",
    "        parser.append([image_name, width, height, name, xmin, xmax, ymin, ymax])\n",
    "\n",
    "    return parser\n"
   ]
  },
  {
   "cell_type": "code",
   "execution_count": 42,
   "id": "5475804e-a70d-49e8-8e8e-ca4b045011c0",
   "metadata": {},
   "outputs": [
    {
     "name": "stdout",
     "output_type": "stream",
     "text": [
      "[['01.jpg', '2047', '1365', 'car', '202', '1021', '741', '1164'], ['01.jpg', '2047', '1365', 'car', '1118', '1858', '718', '1095'], ['02.jpg', '2048', '1365', 'car', '497', '2035', '466', '1249'], ['03.jpg', '1600', '1200', 'car', '37', '1547', '523', '1035'], ['03.jpg', '1600', '1200', 'car', '29', '918', '509', '852'], ['03.jpg', '1600', '1200', 'car', '1292', '1600', '503', '917'], ['04.jpg', '2048', '1536', 'dog', '531', '1564', '353', '1439'], ['05.jpg', '2047', '1382', 'bicycle', '677', '2000', '339', '1183'], ['06.jpg', '950', '618', 'boat', '1', '141', '178', '253'], ['06.jpg', '950', '618', 'boat', '64', '405', '208', '369'], ['06.jpg', '950', '618', 'boat', '65', '236', '247', '309'], ['06.jpg', '950', '618', 'boat', '177', '638', '225', '461'], ['07.jpg', '2000', '1500', 'cow', '143', '358', '262', '389'], ['07.jpg', '2000', '1500', 'cow', '977', '1141', '235', '354'], ['07.jpg', '2000', '1500', 'cow', '1155', '1464', '544', '888'], ['07.jpg', '2000', '1500', 'cow', '1270', '1980', '591', '1219'], ['07.jpg', '2000', '1500', 'cow', '8', '837', '574', '1345'], ['08.jpg', '1448', '865', 'person', '766', '874', '407', '640'], ['08.jpg', '1448', '865', 'person', '876', '989', '392', '627'], ['08.jpg', '1448', '865', 'person', '384', '426', '410', '498'], ['08.jpg', '1448', '865', 'person', '421', '462', '416', '492'], ['09.jpg', '1200', '900', 'person', '738', '873', '327', '726'], ['10.jpg', '1200', '800', 'person', '767', '1142', '184', '797'], ['10.jpg', '1200', '800', 'person', '567', '797', '151', '800'], ['10.jpg', '1200', '800', 'person', '209', '682', '130', '800'], ['11.jpeg', '1200', '800', 'person', '124', '569', '53', '715'], ['12.jpg', '1920', '1080', 'person', '302', '556', '294', '919'], ['12.jpg', '1920', '1080', 'person', '914', '1183', '303', '1006']]\n"
     ]
    }
   ],
   "source": [
    "parser_all = list(map(extract_text, xml_list))\n",
    "data = reduce(lambda x, y: x+y, parser_all)\n",
    "print(data)"
   ]
  },
  {
   "cell_type": "code",
   "execution_count": 46,
   "id": "3d9b3fe0-0aa2-41be-9442-307f5bf44e7e",
   "metadata": {},
   "outputs": [
    {
     "data": {
      "text/html": [
       "<div>\n",
       "<style scoped>\n",
       "    .dataframe tbody tr th:only-of-type {\n",
       "        vertical-align: middle;\n",
       "    }\n",
       "\n",
       "    .dataframe tbody tr th {\n",
       "        vertical-align: top;\n",
       "    }\n",
       "\n",
       "    .dataframe thead th {\n",
       "        text-align: right;\n",
       "    }\n",
       "</style>\n",
       "<table border=\"1\" class=\"dataframe\">\n",
       "  <thead>\n",
       "    <tr style=\"text-align: right;\">\n",
       "      <th></th>\n",
       "      <th>filename</th>\n",
       "      <th>width</th>\n",
       "      <th>height</th>\n",
       "      <th>name</th>\n",
       "      <th>xmin</th>\n",
       "      <th>xmax</th>\n",
       "      <th>ymin</th>\n",
       "      <th>ymax</th>\n",
       "    </tr>\n",
       "  </thead>\n",
       "  <tbody>\n",
       "    <tr>\n",
       "      <th>0</th>\n",
       "      <td>01.jpg</td>\n",
       "      <td>2047</td>\n",
       "      <td>1365</td>\n",
       "      <td>car</td>\n",
       "      <td>202</td>\n",
       "      <td>1021</td>\n",
       "      <td>741</td>\n",
       "      <td>1164</td>\n",
       "    </tr>\n",
       "    <tr>\n",
       "      <th>1</th>\n",
       "      <td>01.jpg</td>\n",
       "      <td>2047</td>\n",
       "      <td>1365</td>\n",
       "      <td>car</td>\n",
       "      <td>1118</td>\n",
       "      <td>1858</td>\n",
       "      <td>718</td>\n",
       "      <td>1095</td>\n",
       "    </tr>\n",
       "    <tr>\n",
       "      <th>2</th>\n",
       "      <td>02.jpg</td>\n",
       "      <td>2048</td>\n",
       "      <td>1365</td>\n",
       "      <td>car</td>\n",
       "      <td>497</td>\n",
       "      <td>2035</td>\n",
       "      <td>466</td>\n",
       "      <td>1249</td>\n",
       "    </tr>\n",
       "    <tr>\n",
       "      <th>3</th>\n",
       "      <td>03.jpg</td>\n",
       "      <td>1600</td>\n",
       "      <td>1200</td>\n",
       "      <td>car</td>\n",
       "      <td>37</td>\n",
       "      <td>1547</td>\n",
       "      <td>523</td>\n",
       "      <td>1035</td>\n",
       "    </tr>\n",
       "    <tr>\n",
       "      <th>4</th>\n",
       "      <td>03.jpg</td>\n",
       "      <td>1600</td>\n",
       "      <td>1200</td>\n",
       "      <td>car</td>\n",
       "      <td>29</td>\n",
       "      <td>918</td>\n",
       "      <td>509</td>\n",
       "      <td>852</td>\n",
       "    </tr>\n",
       "  </tbody>\n",
       "</table>\n",
       "</div>"
      ],
      "text/plain": [
       "  filename width height name  xmin  xmax ymin  ymax\n",
       "0   01.jpg  2047   1365  car   202  1021  741  1164\n",
       "1   01.jpg  2047   1365  car  1118  1858  718  1095\n",
       "2   02.jpg  2048   1365  car   497  2035  466  1249\n",
       "3   03.jpg  1600   1200  car    37  1547  523  1035\n",
       "4   03.jpg  1600   1200  car    29   918  509   852"
      ]
     },
     "execution_count": 46,
     "metadata": {},
     "output_type": "execute_result"
    }
   ],
   "source": [
    "df = pd.DataFrame(data, columns = ['filename', 'width', 'height', 'name', 'xmin', 'xmax', 'ymin', 'ymax'])\n",
    "df.head()"
   ]
  },
  {
   "cell_type": "code",
   "execution_count": 50,
   "id": "c7e0baaa-0566-4242-8e4a-68b6158ef853",
   "metadata": {},
   "outputs": [
    {
     "data": {
      "text/plain": [
       "(28, 8)"
      ]
     },
     "execution_count": 50,
     "metadata": {},
     "output_type": "execute_result"
    }
   ],
   "source": [
    "df.shape"
   ]
  },
  {
   "cell_type": "code",
   "execution_count": 48,
   "id": "32698ced-33f2-416d-a378-87c9926f4dbe",
   "metadata": {},
   "outputs": [
    {
     "data": {
      "text/plain": [
       "name\n",
       "person     11\n",
       "car         6\n",
       "cow         5\n",
       "boat        4\n",
       "dog         1\n",
       "bicycle     1\n",
       "Name: count, dtype: int64"
      ]
     },
     "execution_count": 48,
     "metadata": {},
     "output_type": "execute_result"
    }
   ],
   "source": [
    "#Counts how much of each object has a bounding box\n",
    "df['name'].value_counts()"
   ]
  },
  {
   "cell_type": "code",
   "execution_count": 49,
   "id": "8ed560a6-0c79-4b9f-84da-89330e9c56cf",
   "metadata": {},
   "outputs": [
    {
     "name": "stdout",
     "output_type": "stream",
     "text": [
      "<class 'pandas.core.frame.DataFrame'>\n",
      "RangeIndex: 28 entries, 0 to 27\n",
      "Data columns (total 8 columns):\n",
      " #   Column    Non-Null Count  Dtype \n",
      "---  ------    --------------  ----- \n",
      " 0   filename  28 non-null     object\n",
      " 1   width     28 non-null     object\n",
      " 2   height    28 non-null     object\n",
      " 3   name      28 non-null     object\n",
      " 4   xmin      28 non-null     object\n",
      " 5   xmax      28 non-null     object\n",
      " 6   ymin      28 non-null     object\n",
      " 7   ymax      28 non-null     object\n",
      "dtypes: object(8)\n",
      "memory usage: 1.9+ KB\n"
     ]
    }
   ],
   "source": [
    "df.info()"
   ]
  },
  {
   "cell_type": "code",
   "execution_count": 51,
   "id": "9182d7ac-29da-4277-84fe-bba318e57f4d",
   "metadata": {},
   "outputs": [
    {
     "name": "stdout",
     "output_type": "stream",
     "text": [
      "<class 'pandas.core.frame.DataFrame'>\n",
      "RangeIndex: 28 entries, 0 to 27\n",
      "Data columns (total 8 columns):\n",
      " #   Column    Non-Null Count  Dtype \n",
      "---  ------    --------------  ----- \n",
      " 0   filename  28 non-null     object\n",
      " 1   width     28 non-null     int32 \n",
      " 2   height    28 non-null     int32 \n",
      " 3   name      28 non-null     object\n",
      " 4   xmin      28 non-null     int32 \n",
      " 5   xmax      28 non-null     int32 \n",
      " 6   ymin      28 non-null     int32 \n",
      " 7   ymax      28 non-null     int32 \n",
      "dtypes: int32(6), object(2)\n",
      "memory usage: 1.2+ KB\n"
     ]
    }
   ],
   "source": [
    "# type conversion values to ints\n",
    "cols = ['width', 'height', 'xmin', 'xmax', 'ymin', 'ymax']\n",
    "df[cols] = df[cols].astype(int)\n",
    "df.info()"
   ]
  },
  {
   "cell_type": "code",
   "execution_count": 52,
   "id": "48dc6833-85d2-4b89-a44d-d0fbae860e60",
   "metadata": {},
   "outputs": [],
   "source": [
    "# center x, center y\n",
    "df['center_x'] =((df['xmax'] + df['xmin'])/2) / df['width']\n",
    "df['center_y'] =((df['ymax'] + df['ymin'])/2) / df['height']\n",
    "\n",
    "#width\n",
    "df['w'] = (df['xmax'] - df['xmin']) / df['width']\n",
    "#height\n",
    "df['h'] = (df['ymax'] - df['ymin']) / df['height']"
   ]
  },
  {
   "cell_type": "code",
   "execution_count": 53,
   "id": "9e71817e-c0be-40ee-9054-d68795750c16",
   "metadata": {},
   "outputs": [
    {
     "data": {
      "text/html": [
       "<div>\n",
       "<style scoped>\n",
       "    .dataframe tbody tr th:only-of-type {\n",
       "        vertical-align: middle;\n",
       "    }\n",
       "\n",
       "    .dataframe tbody tr th {\n",
       "        vertical-align: top;\n",
       "    }\n",
       "\n",
       "    .dataframe thead th {\n",
       "        text-align: right;\n",
       "    }\n",
       "</style>\n",
       "<table border=\"1\" class=\"dataframe\">\n",
       "  <thead>\n",
       "    <tr style=\"text-align: right;\">\n",
       "      <th></th>\n",
       "      <th>filename</th>\n",
       "      <th>width</th>\n",
       "      <th>height</th>\n",
       "      <th>name</th>\n",
       "      <th>xmin</th>\n",
       "      <th>xmax</th>\n",
       "      <th>ymin</th>\n",
       "      <th>ymax</th>\n",
       "      <th>center_x</th>\n",
       "      <th>center_y</th>\n",
       "      <th>w</th>\n",
       "      <th>h</th>\n",
       "    </tr>\n",
       "  </thead>\n",
       "  <tbody>\n",
       "    <tr>\n",
       "      <th>0</th>\n",
       "      <td>01.jpg</td>\n",
       "      <td>2047</td>\n",
       "      <td>1365</td>\n",
       "      <td>car</td>\n",
       "      <td>202</td>\n",
       "      <td>1021</td>\n",
       "      <td>741</td>\n",
       "      <td>1164</td>\n",
       "      <td>0.298730</td>\n",
       "      <td>0.697802</td>\n",
       "      <td>0.400098</td>\n",
       "      <td>0.309890</td>\n",
       "    </tr>\n",
       "    <tr>\n",
       "      <th>1</th>\n",
       "      <td>01.jpg</td>\n",
       "      <td>2047</td>\n",
       "      <td>1365</td>\n",
       "      <td>car</td>\n",
       "      <td>1118</td>\n",
       "      <td>1858</td>\n",
       "      <td>718</td>\n",
       "      <td>1095</td>\n",
       "      <td>0.726917</td>\n",
       "      <td>0.664103</td>\n",
       "      <td>0.361505</td>\n",
       "      <td>0.276190</td>\n",
       "    </tr>\n",
       "    <tr>\n",
       "      <th>2</th>\n",
       "      <td>02.jpg</td>\n",
       "      <td>2048</td>\n",
       "      <td>1365</td>\n",
       "      <td>car</td>\n",
       "      <td>497</td>\n",
       "      <td>2035</td>\n",
       "      <td>466</td>\n",
       "      <td>1249</td>\n",
       "      <td>0.618164</td>\n",
       "      <td>0.628205</td>\n",
       "      <td>0.750977</td>\n",
       "      <td>0.573626</td>\n",
       "    </tr>\n",
       "    <tr>\n",
       "      <th>3</th>\n",
       "      <td>03.jpg</td>\n",
       "      <td>1600</td>\n",
       "      <td>1200</td>\n",
       "      <td>car</td>\n",
       "      <td>37</td>\n",
       "      <td>1547</td>\n",
       "      <td>523</td>\n",
       "      <td>1035</td>\n",
       "      <td>0.495000</td>\n",
       "      <td>0.649167</td>\n",
       "      <td>0.943750</td>\n",
       "      <td>0.426667</td>\n",
       "    </tr>\n",
       "    <tr>\n",
       "      <th>4</th>\n",
       "      <td>03.jpg</td>\n",
       "      <td>1600</td>\n",
       "      <td>1200</td>\n",
       "      <td>car</td>\n",
       "      <td>29</td>\n",
       "      <td>918</td>\n",
       "      <td>509</td>\n",
       "      <td>852</td>\n",
       "      <td>0.295938</td>\n",
       "      <td>0.567083</td>\n",
       "      <td>0.555625</td>\n",
       "      <td>0.285833</td>\n",
       "    </tr>\n",
       "  </tbody>\n",
       "</table>\n",
       "</div>"
      ],
      "text/plain": [
       "  filename  width  height name  xmin  xmax  ymin  ymax  center_x  center_y  \\\n",
       "0   01.jpg   2047    1365  car   202  1021   741  1164  0.298730  0.697802   \n",
       "1   01.jpg   2047    1365  car  1118  1858   718  1095  0.726917  0.664103   \n",
       "2   02.jpg   2048    1365  car   497  2035   466  1249  0.618164  0.628205   \n",
       "3   03.jpg   1600    1200  car    37  1547   523  1035  0.495000  0.649167   \n",
       "4   03.jpg   1600    1200  car    29   918   509   852  0.295938  0.567083   \n",
       "\n",
       "          w         h  \n",
       "0  0.400098  0.309890  \n",
       "1  0.361505  0.276190  \n",
       "2  0.750977  0.573626  \n",
       "3  0.943750  0.426667  \n",
       "4  0.555625  0.285833  "
      ]
     },
     "execution_count": 53,
     "metadata": {},
     "output_type": "execute_result"
    }
   ],
   "source": [
    "df.head()"
   ]
  },
  {
   "cell_type": "code",
   "execution_count": 56,
   "id": "e74091d4-e84d-4ace-ae99-ab6ca77e5ae3",
   "metadata": {},
   "outputs": [
    {
     "data": {
      "text/plain": [
       "12"
      ]
     },
     "execution_count": 56,
     "metadata": {},
     "output_type": "execute_result"
    }
   ],
   "source": [
    "images = df['filename'].unique()\n",
    "len(images)"
   ]
  },
  {
   "cell_type": "code",
   "execution_count": 70,
   "id": "bc7e5db1-b8df-4b08-a1a3-257f2e63ed1a",
   "metadata": {},
   "outputs": [],
   "source": [
    "# 80% train and 20% test\n",
    "img_df = pd.DataFrame(images, columns=['filename'])\n",
    "img_df.head()\n",
    "img_train = tuple(img_df.sample(frac=0.8)['filename']) #shuffle then randomly picks 80% of images"
   ]
  },
  {
   "cell_type": "code",
   "execution_count": 71,
   "id": "db05f05f-29dc-4ec2-a6d9-0d925ee9ebeb",
   "metadata": {},
   "outputs": [],
   "source": [
    "img_test = tuple(img_df.query(f'filename not in {img_train}')['filename']) # take rest 20% images"
   ]
  },
  {
   "cell_type": "code",
   "execution_count": 72,
   "id": "e3fc132e-c5d4-4e8f-a155-57335bdbcd50",
   "metadata": {},
   "outputs": [
    {
     "data": {
      "text/plain": [
       "('02.jpg', '11.jpeg')"
      ]
     },
     "execution_count": 72,
     "metadata": {},
     "output_type": "execute_result"
    }
   ],
   "source": [
    "img_test"
   ]
  },
  {
   "cell_type": "code",
   "execution_count": 73,
   "id": "d9755909-7011-4909-ad99-f238183f7a27",
   "metadata": {},
   "outputs": [],
   "source": [
    "train_df = df.query(f'filename in {img_train}')\n",
    "test_df = df.query(f'filename in {img_test}')"
   ]
  },
  {
   "cell_type": "code",
   "execution_count": 74,
   "id": "fd2e5a51-8829-40cd-bbce-30f077667218",
   "metadata": {},
   "outputs": [
    {
     "data": {
      "text/html": [
       "<div>\n",
       "<style scoped>\n",
       "    .dataframe tbody tr th:only-of-type {\n",
       "        vertical-align: middle;\n",
       "    }\n",
       "\n",
       "    .dataframe tbody tr th {\n",
       "        vertical-align: top;\n",
       "    }\n",
       "\n",
       "    .dataframe thead th {\n",
       "        text-align: right;\n",
       "    }\n",
       "</style>\n",
       "<table border=\"1\" class=\"dataframe\">\n",
       "  <thead>\n",
       "    <tr style=\"text-align: right;\">\n",
       "      <th></th>\n",
       "      <th>filename</th>\n",
       "      <th>width</th>\n",
       "      <th>height</th>\n",
       "      <th>name</th>\n",
       "      <th>xmin</th>\n",
       "      <th>xmax</th>\n",
       "      <th>ymin</th>\n",
       "      <th>ymax</th>\n",
       "      <th>center_x</th>\n",
       "      <th>center_y</th>\n",
       "      <th>w</th>\n",
       "      <th>h</th>\n",
       "    </tr>\n",
       "  </thead>\n",
       "  <tbody>\n",
       "    <tr>\n",
       "      <th>0</th>\n",
       "      <td>01.jpg</td>\n",
       "      <td>2047</td>\n",
       "      <td>1365</td>\n",
       "      <td>car</td>\n",
       "      <td>202</td>\n",
       "      <td>1021</td>\n",
       "      <td>741</td>\n",
       "      <td>1164</td>\n",
       "      <td>0.298730</td>\n",
       "      <td>0.697802</td>\n",
       "      <td>0.400098</td>\n",
       "      <td>0.309890</td>\n",
       "    </tr>\n",
       "    <tr>\n",
       "      <th>1</th>\n",
       "      <td>01.jpg</td>\n",
       "      <td>2047</td>\n",
       "      <td>1365</td>\n",
       "      <td>car</td>\n",
       "      <td>1118</td>\n",
       "      <td>1858</td>\n",
       "      <td>718</td>\n",
       "      <td>1095</td>\n",
       "      <td>0.726917</td>\n",
       "      <td>0.664103</td>\n",
       "      <td>0.361505</td>\n",
       "      <td>0.276190</td>\n",
       "    </tr>\n",
       "    <tr>\n",
       "      <th>3</th>\n",
       "      <td>03.jpg</td>\n",
       "      <td>1600</td>\n",
       "      <td>1200</td>\n",
       "      <td>car</td>\n",
       "      <td>37</td>\n",
       "      <td>1547</td>\n",
       "      <td>523</td>\n",
       "      <td>1035</td>\n",
       "      <td>0.495000</td>\n",
       "      <td>0.649167</td>\n",
       "      <td>0.943750</td>\n",
       "      <td>0.426667</td>\n",
       "    </tr>\n",
       "    <tr>\n",
       "      <th>4</th>\n",
       "      <td>03.jpg</td>\n",
       "      <td>1600</td>\n",
       "      <td>1200</td>\n",
       "      <td>car</td>\n",
       "      <td>29</td>\n",
       "      <td>918</td>\n",
       "      <td>509</td>\n",
       "      <td>852</td>\n",
       "      <td>0.295938</td>\n",
       "      <td>0.567083</td>\n",
       "      <td>0.555625</td>\n",
       "      <td>0.285833</td>\n",
       "    </tr>\n",
       "    <tr>\n",
       "      <th>5</th>\n",
       "      <td>03.jpg</td>\n",
       "      <td>1600</td>\n",
       "      <td>1200</td>\n",
       "      <td>car</td>\n",
       "      <td>1292</td>\n",
       "      <td>1600</td>\n",
       "      <td>503</td>\n",
       "      <td>917</td>\n",
       "      <td>0.903750</td>\n",
       "      <td>0.591667</td>\n",
       "      <td>0.192500</td>\n",
       "      <td>0.345000</td>\n",
       "    </tr>\n",
       "  </tbody>\n",
       "</table>\n",
       "</div>"
      ],
      "text/plain": [
       "  filename  width  height name  xmin  xmax  ymin  ymax  center_x  center_y  \\\n",
       "0   01.jpg   2047    1365  car   202  1021   741  1164  0.298730  0.697802   \n",
       "1   01.jpg   2047    1365  car  1118  1858   718  1095  0.726917  0.664103   \n",
       "3   03.jpg   1600    1200  car    37  1547   523  1035  0.495000  0.649167   \n",
       "4   03.jpg   1600    1200  car    29   918   509   852  0.295938  0.567083   \n",
       "5   03.jpg   1600    1200  car  1292  1600   503   917  0.903750  0.591667   \n",
       "\n",
       "          w         h  \n",
       "0  0.400098  0.309890  \n",
       "1  0.361505  0.276190  \n",
       "3  0.943750  0.426667  \n",
       "4  0.555625  0.285833  \n",
       "5  0.192500  0.345000  "
      ]
     },
     "execution_count": 74,
     "metadata": {},
     "output_type": "execute_result"
    }
   ],
   "source": [
    "train_df.head()"
   ]
  },
  {
   "cell_type": "code",
   "execution_count": 75,
   "id": "ed1f4790-4ef3-462d-8864-72f7caea57f3",
   "metadata": {},
   "outputs": [
    {
     "data": {
      "text/html": [
       "<div>\n",
       "<style scoped>\n",
       "    .dataframe tbody tr th:only-of-type {\n",
       "        vertical-align: middle;\n",
       "    }\n",
       "\n",
       "    .dataframe tbody tr th {\n",
       "        vertical-align: top;\n",
       "    }\n",
       "\n",
       "    .dataframe thead th {\n",
       "        text-align: right;\n",
       "    }\n",
       "</style>\n",
       "<table border=\"1\" class=\"dataframe\">\n",
       "  <thead>\n",
       "    <tr style=\"text-align: right;\">\n",
       "      <th></th>\n",
       "      <th>filename</th>\n",
       "      <th>width</th>\n",
       "      <th>height</th>\n",
       "      <th>name</th>\n",
       "      <th>xmin</th>\n",
       "      <th>xmax</th>\n",
       "      <th>ymin</th>\n",
       "      <th>ymax</th>\n",
       "      <th>center_x</th>\n",
       "      <th>center_y</th>\n",
       "      <th>w</th>\n",
       "      <th>h</th>\n",
       "    </tr>\n",
       "  </thead>\n",
       "  <tbody>\n",
       "    <tr>\n",
       "      <th>2</th>\n",
       "      <td>02.jpg</td>\n",
       "      <td>2048</td>\n",
       "      <td>1365</td>\n",
       "      <td>car</td>\n",
       "      <td>497</td>\n",
       "      <td>2035</td>\n",
       "      <td>466</td>\n",
       "      <td>1249</td>\n",
       "      <td>0.618164</td>\n",
       "      <td>0.628205</td>\n",
       "      <td>0.750977</td>\n",
       "      <td>0.573626</td>\n",
       "    </tr>\n",
       "    <tr>\n",
       "      <th>25</th>\n",
       "      <td>11.jpeg</td>\n",
       "      <td>1200</td>\n",
       "      <td>800</td>\n",
       "      <td>person</td>\n",
       "      <td>124</td>\n",
       "      <td>569</td>\n",
       "      <td>53</td>\n",
       "      <td>715</td>\n",
       "      <td>0.288750</td>\n",
       "      <td>0.480000</td>\n",
       "      <td>0.370833</td>\n",
       "      <td>0.827500</td>\n",
       "    </tr>\n",
       "  </tbody>\n",
       "</table>\n",
       "</div>"
      ],
      "text/plain": [
       "   filename  width  height    name  xmin  xmax  ymin  ymax  center_x  \\\n",
       "2    02.jpg   2048    1365     car   497  2035   466  1249  0.618164   \n",
       "25  11.jpeg   1200     800  person   124   569    53   715  0.288750   \n",
       "\n",
       "    center_y         w         h  \n",
       "2   0.628205  0.750977  0.573626  \n",
       "25  0.480000  0.370833  0.827500  "
      ]
     },
     "execution_count": 75,
     "metadata": {},
     "output_type": "execute_result"
    }
   ],
   "source": [
    "test_df.head()"
   ]
  },
  {
   "cell_type": "code",
   "execution_count": 76,
   "id": "bc93f680-cdb7-4306-afcc-890ba2d7c822",
   "metadata": {},
   "outputs": [],
   "source": [
    "# label encoding\n",
    "def label_encoding(x):\n",
    "    labels = {'person':0, 'car':1, 'chair':2, 'bottle':3, 'pottedplant':4, 'bird':5, 'dog':6, 'sofa':7, 'bicycle':8, 'horse':9, 'boat':10, 'motorbike':11, \n",
    "              'cat':12, 'tvmonitor':13, 'cow':14, 'sheep':15, 'aeroplane':16, 'train':17, 'diningtable':18, 'bus':19}\n",
    "    return labels[x]\n",
    "              "
   ]
  },
  {
   "cell_type": "code",
   "execution_count": 79,
   "id": "1b3b8136-c9ae-4a3e-82c3-a64bda01f364",
   "metadata": {},
   "outputs": [
    {
     "name": "stderr",
     "output_type": "stream",
     "text": [
      "C:\\Users\\chris\\AppData\\Local\\Temp\\ipykernel_20128\\3670447619.py:1: SettingWithCopyWarning: \n",
      "A value is trying to be set on a copy of a slice from a DataFrame.\n",
      "Try using .loc[row_indexer,col_indexer] = value instead\n",
      "\n",
      "See the caveats in the documentation: https://pandas.pydata.org/pandas-docs/stable/user_guide/indexing.html#returning-a-view-versus-a-copy\n",
      "  train_df['id'] = train_df['name'].apply(label_encoding)\n",
      "C:\\Users\\chris\\AppData\\Local\\Temp\\ipykernel_20128\\3670447619.py:2: SettingWithCopyWarning: \n",
      "A value is trying to be set on a copy of a slice from a DataFrame.\n",
      "Try using .loc[row_indexer,col_indexer] = value instead\n",
      "\n",
      "See the caveats in the documentation: https://pandas.pydata.org/pandas-docs/stable/user_guide/indexing.html#returning-a-view-versus-a-copy\n",
      "  test_df['id'] = test_df['name'].apply(label_encoding)\n"
     ]
    },
    {
     "data": {
      "text/html": [
       "<div>\n",
       "<style scoped>\n",
       "    .dataframe tbody tr th:only-of-type {\n",
       "        vertical-align: middle;\n",
       "    }\n",
       "\n",
       "    .dataframe tbody tr th {\n",
       "        vertical-align: top;\n",
       "    }\n",
       "\n",
       "    .dataframe thead th {\n",
       "        text-align: right;\n",
       "    }\n",
       "</style>\n",
       "<table border=\"1\" class=\"dataframe\">\n",
       "  <thead>\n",
       "    <tr style=\"text-align: right;\">\n",
       "      <th></th>\n",
       "      <th>filename</th>\n",
       "      <th>width</th>\n",
       "      <th>height</th>\n",
       "      <th>name</th>\n",
       "      <th>xmin</th>\n",
       "      <th>xmax</th>\n",
       "      <th>ymin</th>\n",
       "      <th>ymax</th>\n",
       "      <th>center_x</th>\n",
       "      <th>center_y</th>\n",
       "      <th>w</th>\n",
       "      <th>h</th>\n",
       "      <th>id</th>\n",
       "    </tr>\n",
       "  </thead>\n",
       "  <tbody>\n",
       "    <tr>\n",
       "      <th>0</th>\n",
       "      <td>01.jpg</td>\n",
       "      <td>2047</td>\n",
       "      <td>1365</td>\n",
       "      <td>car</td>\n",
       "      <td>202</td>\n",
       "      <td>1021</td>\n",
       "      <td>741</td>\n",
       "      <td>1164</td>\n",
       "      <td>0.298730</td>\n",
       "      <td>0.697802</td>\n",
       "      <td>0.400098</td>\n",
       "      <td>0.309890</td>\n",
       "      <td>1</td>\n",
       "    </tr>\n",
       "    <tr>\n",
       "      <th>1</th>\n",
       "      <td>01.jpg</td>\n",
       "      <td>2047</td>\n",
       "      <td>1365</td>\n",
       "      <td>car</td>\n",
       "      <td>1118</td>\n",
       "      <td>1858</td>\n",
       "      <td>718</td>\n",
       "      <td>1095</td>\n",
       "      <td>0.726917</td>\n",
       "      <td>0.664103</td>\n",
       "      <td>0.361505</td>\n",
       "      <td>0.276190</td>\n",
       "      <td>1</td>\n",
       "    </tr>\n",
       "    <tr>\n",
       "      <th>3</th>\n",
       "      <td>03.jpg</td>\n",
       "      <td>1600</td>\n",
       "      <td>1200</td>\n",
       "      <td>car</td>\n",
       "      <td>37</td>\n",
       "      <td>1547</td>\n",
       "      <td>523</td>\n",
       "      <td>1035</td>\n",
       "      <td>0.495000</td>\n",
       "      <td>0.649167</td>\n",
       "      <td>0.943750</td>\n",
       "      <td>0.426667</td>\n",
       "      <td>1</td>\n",
       "    </tr>\n",
       "    <tr>\n",
       "      <th>4</th>\n",
       "      <td>03.jpg</td>\n",
       "      <td>1600</td>\n",
       "      <td>1200</td>\n",
       "      <td>car</td>\n",
       "      <td>29</td>\n",
       "      <td>918</td>\n",
       "      <td>509</td>\n",
       "      <td>852</td>\n",
       "      <td>0.295938</td>\n",
       "      <td>0.567083</td>\n",
       "      <td>0.555625</td>\n",
       "      <td>0.285833</td>\n",
       "      <td>1</td>\n",
       "    </tr>\n",
       "    <tr>\n",
       "      <th>5</th>\n",
       "      <td>03.jpg</td>\n",
       "      <td>1600</td>\n",
       "      <td>1200</td>\n",
       "      <td>car</td>\n",
       "      <td>1292</td>\n",
       "      <td>1600</td>\n",
       "      <td>503</td>\n",
       "      <td>917</td>\n",
       "      <td>0.903750</td>\n",
       "      <td>0.591667</td>\n",
       "      <td>0.192500</td>\n",
       "      <td>0.345000</td>\n",
       "      <td>1</td>\n",
       "    </tr>\n",
       "    <tr>\n",
       "      <th>6</th>\n",
       "      <td>04.jpg</td>\n",
       "      <td>2048</td>\n",
       "      <td>1536</td>\n",
       "      <td>dog</td>\n",
       "      <td>531</td>\n",
       "      <td>1564</td>\n",
       "      <td>353</td>\n",
       "      <td>1439</td>\n",
       "      <td>0.511475</td>\n",
       "      <td>0.583333</td>\n",
       "      <td>0.504395</td>\n",
       "      <td>0.707031</td>\n",
       "      <td>6</td>\n",
       "    </tr>\n",
       "    <tr>\n",
       "      <th>7</th>\n",
       "      <td>05.jpg</td>\n",
       "      <td>2047</td>\n",
       "      <td>1382</td>\n",
       "      <td>bicycle</td>\n",
       "      <td>677</td>\n",
       "      <td>2000</td>\n",
       "      <td>339</td>\n",
       "      <td>1183</td>\n",
       "      <td>0.653884</td>\n",
       "      <td>0.550651</td>\n",
       "      <td>0.646312</td>\n",
       "      <td>0.610709</td>\n",
       "      <td>8</td>\n",
       "    </tr>\n",
       "  </tbody>\n",
       "</table>\n",
       "</div>"
      ],
      "text/plain": [
       "  filename  width  height     name  xmin  xmax  ymin  ymax  center_x  \\\n",
       "0   01.jpg   2047    1365      car   202  1021   741  1164  0.298730   \n",
       "1   01.jpg   2047    1365      car  1118  1858   718  1095  0.726917   \n",
       "3   03.jpg   1600    1200      car    37  1547   523  1035  0.495000   \n",
       "4   03.jpg   1600    1200      car    29   918   509   852  0.295938   \n",
       "5   03.jpg   1600    1200      car  1292  1600   503   917  0.903750   \n",
       "6   04.jpg   2048    1536      dog   531  1564   353  1439  0.511475   \n",
       "7   05.jpg   2047    1382  bicycle   677  2000   339  1183  0.653884   \n",
       "\n",
       "   center_y         w         h  id  \n",
       "0  0.697802  0.400098  0.309890   1  \n",
       "1  0.664103  0.361505  0.276190   1  \n",
       "3  0.649167  0.943750  0.426667   1  \n",
       "4  0.567083  0.555625  0.285833   1  \n",
       "5  0.591667  0.192500  0.345000   1  \n",
       "6  0.583333  0.504395  0.707031   6  \n",
       "7  0.550651  0.646312  0.610709   8  "
      ]
     },
     "execution_count": 79,
     "metadata": {},
     "output_type": "execute_result"
    }
   ],
   "source": [
    "train_df['id'] = train_df['name'].apply(label_encoding)\n",
    "test_df['id'] = test_df['name'].apply(label_encoding)\n",
    "train_df.head(7)"
   ]
  },
  {
   "cell_type": "code",
   "execution_count": 80,
   "id": "9a73ce9e-09eb-4229-83b1-47e83749ec98",
   "metadata": {},
   "outputs": [],
   "source": [
    "import os\n",
    "from shutil import move"
   ]
  },
  {
   "cell_type": "code",
   "execution_count": 82,
   "id": "259ad766-19f7-451b-b6d3-abe80d551332",
   "metadata": {},
   "outputs": [],
   "source": [
    "train_folder = './1_datapreparation/data_images/train'\n",
    "test_folder = './1_datapreparation/data_images/test'\n",
    "\n",
    "os.mkdir(train_folder)\n",
    "os.mkdir(test_folder)"
   ]
  },
  {
   "cell_type": "code",
   "execution_count": 123,
   "id": "0f006bdf-b65f-4fcd-9dd9-a20b4e5c0051",
   "metadata": {},
   "outputs": [],
   "source": [
    "cols = ['filename', 'id', 'center_x', 'center_y', 'w', 'h']\n",
    "groupby_obj_train = train_df[cols].groupby('filename')\n",
    "groupby_obj_test = test_df[cols].groupby('filename')\n"
   ]
  },
  {
   "cell_type": "code",
   "execution_count": 124,
   "id": "fe219993-329c-4ec5-8bbc-52ccfa69d7a5",
   "metadata": {},
   "outputs": [],
   "source": [
    "# our job is to use the data and put it in text files to be read\n",
    "#groupby_obj_train.get_group('01.jpg').set_index('filename').to_csv('sample.txt', index=False, header=False) \n",
    "# save each image in train/test and its respective labels in .txt\n",
    "\n",
    "def save_data(filename, folder_path, group_obj):\n",
    "    #move image\n",
    "    src = os.path.join('./1_datapreparation/data_images', filename)\n",
    "    dst = os.path.join(folder_path, filename)\n",
    "    move(src, dst) #moving image to destination folder\n",
    "\n",
    "    #save labels\n",
    "    text_filename = os.path.join(folder_path, os.path.splitext(filename)[0]+'.txt')\n",
    "    group_obj.get_group(filename).set_index('filename').to_csv(text_filename, sep=' ', index=False, header=False)"
   ]
  },
  {
   "cell_type": "code",
   "execution_count": 125,
   "id": "5b214c33-833b-4049-94ce-6d6567cbbaaa",
   "metadata": {},
   "outputs": [],
   "source": [
    "filename_series = pd.Series(groupby_obj_train.groups.keys())"
   ]
  },
  {
   "cell_type": "code",
   "execution_count": 126,
   "id": "ddefda1f-4aa2-4df0-80f2-0c29e20a3694",
   "metadata": {},
   "outputs": [
    {
     "data": {
      "text/plain": [
       "0    None\n",
       "1    None\n",
       "2    None\n",
       "3    None\n",
       "4    None\n",
       "5    None\n",
       "6    None\n",
       "7    None\n",
       "8    None\n",
       "9    None\n",
       "dtype: object"
      ]
     },
     "execution_count": 126,
     "metadata": {},
     "output_type": "execute_result"
    }
   ],
   "source": [
    "filename_series.apply(save_data, args=(train_folder, groupby_obj_train))"
   ]
  },
  {
   "cell_type": "code",
   "execution_count": 127,
   "id": "5ba3a4b1-2326-4faf-82cb-a6c84af62178",
   "metadata": {},
   "outputs": [
    {
     "data": {
      "text/plain": [
       "0    None\n",
       "1    None\n",
       "dtype: object"
      ]
     },
     "execution_count": 127,
     "metadata": {},
     "output_type": "execute_result"
    }
   ],
   "source": [
    "filename_series = pd.Series(groupby_obj_test.groups.keys())\n",
    "filename_series.apply(save_data, args=(test_folder, groupby_obj_test))"
   ]
  },
  {
   "cell_type": "code",
   "execution_count": null,
   "id": "0fc1669e-cd6f-4107-9900-16d9f71edb92",
   "metadata": {},
   "outputs": [],
   "source": []
  }
 ],
 "metadata": {
  "kernelspec": {
   "display_name": "Python 3 (ipykernel)",
   "language": "python",
   "name": "python3"
  },
  "language_info": {
   "codemirror_mode": {
    "name": "ipython",
    "version": 3
   },
   "file_extension": ".py",
   "mimetype": "text/x-python",
   "name": "python",
   "nbconvert_exporter": "python",
   "pygments_lexer": "ipython3",
   "version": "3.11.4"
  }
 },
 "nbformat": 4,
 "nbformat_minor": 5
}
